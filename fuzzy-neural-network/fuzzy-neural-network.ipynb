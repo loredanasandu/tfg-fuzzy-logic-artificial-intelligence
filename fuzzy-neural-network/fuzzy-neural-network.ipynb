{
 "cells": [
  {
   "attachments": {},
   "cell_type": "markdown",
   "metadata": {},
   "source": [
    "# Fuzzy Neural Network"
   ]
  },
  {
   "cell_type": "code",
   "execution_count": 1,
   "metadata": {},
   "outputs": [],
   "source": [
    "from yield_prediction_system import YieldPredictionSystem\n",
    "\n",
    "import pandas as pd\n",
    "import numpy as np\n",
    "\n",
    "import torch\n",
    "import torch.nn as nn\n",
    "import torch.optim as optim\n",
    "\n",
    "import copy\n",
    "\n",
    "pd.set_option('display.max_columns', None)"
   ]
  },
  {
   "cell_type": "code",
   "execution_count": 2,
   "metadata": {},
   "outputs": [],
   "source": [
    "from tqdm.auto import tqdm\n",
    "import matplotlib.pyplot as plt"
   ]
  },
  {
   "cell_type": "code",
   "execution_count": 3,
   "metadata": {},
   "outputs": [],
   "source": [
    "T_NORM = 'product'\n",
    "T_CONORM = 'sum'"
   ]
  },
  {
   "cell_type": "code",
   "execution_count": 4,
   "metadata": {},
   "outputs": [
    {
     "data": {
      "text/html": [
       "<div>\n",
       "<style scoped>\n",
       "    .dataframe tbody tr th:only-of-type {\n",
       "        vertical-align: middle;\n",
       "    }\n",
       "\n",
       "    .dataframe tbody tr th {\n",
       "        vertical-align: top;\n",
       "    }\n",
       "\n",
       "    .dataframe thead th {\n",
       "        text-align: right;\n",
       "    }\n",
       "</style>\n",
       "<table border=\"1\" class=\"dataframe\">\n",
       "  <thead>\n",
       "    <tr style=\"text-align: right;\">\n",
       "      <th></th>\n",
       "      <th>panicle</th>\n",
       "      <th>growth</th>\n",
       "      <th>yield</th>\n",
       "    </tr>\n",
       "  </thead>\n",
       "  <tbody>\n",
       "    <tr>\n",
       "      <th>0</th>\n",
       "      <td>3.975</td>\n",
       "      <td>184.0</td>\n",
       "      <td>7.5000</td>\n",
       "    </tr>\n",
       "    <tr>\n",
       "      <th>1</th>\n",
       "      <td>3.975</td>\n",
       "      <td>184.0</td>\n",
       "      <td>6.7500</td>\n",
       "    </tr>\n",
       "    <tr>\n",
       "      <th>2</th>\n",
       "      <td>2.850</td>\n",
       "      <td>125.0</td>\n",
       "      <td>6.4275</td>\n",
       "    </tr>\n",
       "    <tr>\n",
       "      <th>3</th>\n",
       "      <td>4.500</td>\n",
       "      <td>147.5</td>\n",
       "      <td>7.2285</td>\n",
       "    </tr>\n",
       "    <tr>\n",
       "      <th>4</th>\n",
       "      <td>5.100</td>\n",
       "      <td>167.5</td>\n",
       "      <td>8.7150</td>\n",
       "    </tr>\n",
       "  </tbody>\n",
       "</table>\n",
       "</div>"
      ],
      "text/plain": [
       "   panicle  growth   yield\n",
       "0    3.975   184.0  7.5000\n",
       "1    3.975   184.0  6.7500\n",
       "2    2.850   125.0  6.4275\n",
       "3    4.500   147.5  7.2285\n",
       "4    5.100   167.5  8.7150"
      ]
     },
     "execution_count": 4,
     "metadata": {},
     "output_type": "execute_result"
    }
   ],
   "source": [
    "df_fnn = pd.read_csv('../data/rice-yield-clean-data.csv')\n",
    "df_fnn.head()"
   ]
  },
  {
   "cell_type": "code",
   "execution_count": 5,
   "metadata": {},
   "outputs": [],
   "source": [
    "fuzzy_system_fnn = YieldPredictionSystem(data=df_fnn, t_norm=T_NORM, t_conorm=T_CONORM)"
   ]
  },
  {
   "cell_type": "code",
   "execution_count": 6,
   "metadata": {},
   "outputs": [
    {
     "name": "stdout",
     "output_type": "stream",
     "text": [
      "{'min': 2.55, 'pct10': 2.895, 'pct25': 3.06375, 'pct50': 3.3075, 'pct75': 3.75, 'pct90': 4.295999999999999, 'max': 5.115}\n",
      "{'min': 123.4, 'pct10': 135.0, 'pct25': 142.0, 'pct50': 154.0, 'pct75': 160.72500000000002, 'pct90': 175.97, 'max': 191.5}\n",
      "{'min': 6.4011, 'pct10': 7.71381, 'pct25': 8.403375, 'pct50': 8.855699999999999, 'pct75': 9.41925, 'pct90': 10.099499999999999, 'max': 11.19}\n",
      "t_norm_product t_conorm_sum\n"
     ]
    }
   ],
   "source": [
    "# Checking if everything is loaded correctly\n",
    "print(fuzzy_system_fnn.panicle_datapoints)\n",
    "print(fuzzy_system_fnn.growth_datapoints)\n",
    "print(fuzzy_system_fnn.yield_datapoints)\n",
    "print(fuzzy_system_fnn.t_norm.__name__, fuzzy_system_fnn.t_conorm.__name__)"
   ]
  },
  {
   "attachments": {},
   "cell_type": "markdown",
   "metadata": {},
   "source": [
    "## Fuzzification"
   ]
  },
  {
   "cell_type": "code",
   "execution_count": 7,
   "metadata": {},
   "outputs": [
    {
     "data": {
      "text/html": [
       "<div>\n",
       "<style scoped>\n",
       "    .dataframe tbody tr th:only-of-type {\n",
       "        vertical-align: middle;\n",
       "    }\n",
       "\n",
       "    .dataframe tbody tr th {\n",
       "        vertical-align: top;\n",
       "    }\n",
       "\n",
       "    .dataframe thead th {\n",
       "        text-align: right;\n",
       "    }\n",
       "</style>\n",
       "<table border=\"1\" class=\"dataframe\">\n",
       "  <thead>\n",
       "    <tr style=\"text-align: right;\">\n",
       "      <th></th>\n",
       "      <th>panicle</th>\n",
       "      <th>growth</th>\n",
       "      <th>yield</th>\n",
       "      <th>VLP</th>\n",
       "      <th>LP</th>\n",
       "      <th>MP</th>\n",
       "      <th>HP</th>\n",
       "      <th>VHP</th>\n",
       "      <th>VLG</th>\n",
       "      <th>LG</th>\n",
       "      <th>MG</th>\n",
       "      <th>HG</th>\n",
       "      <th>VHG</th>\n",
       "    </tr>\n",
       "  </thead>\n",
       "  <tbody>\n",
       "    <tr>\n",
       "      <th>0</th>\n",
       "      <td>3.975</td>\n",
       "      <td>184.0</td>\n",
       "      <td>7.5000</td>\n",
       "      <td>0.0</td>\n",
       "      <td>0.0</td>\n",
       "      <td>0.0</td>\n",
       "      <td>0.587912</td>\n",
       "      <td>0.412088</td>\n",
       "      <td>0.0</td>\n",
       "      <td>0.000000</td>\n",
       "      <td>0.000000</td>\n",
       "      <td>0.000000</td>\n",
       "      <td>1.000000</td>\n",
       "    </tr>\n",
       "    <tr>\n",
       "      <th>1</th>\n",
       "      <td>3.975</td>\n",
       "      <td>184.0</td>\n",
       "      <td>6.7500</td>\n",
       "      <td>0.0</td>\n",
       "      <td>0.0</td>\n",
       "      <td>0.0</td>\n",
       "      <td>0.587912</td>\n",
       "      <td>0.412088</td>\n",
       "      <td>0.0</td>\n",
       "      <td>0.000000</td>\n",
       "      <td>0.000000</td>\n",
       "      <td>0.000000</td>\n",
       "      <td>1.000000</td>\n",
       "    </tr>\n",
       "    <tr>\n",
       "      <th>2</th>\n",
       "      <td>2.850</td>\n",
       "      <td>125.0</td>\n",
       "      <td>6.4275</td>\n",
       "      <td>1.0</td>\n",
       "      <td>0.0</td>\n",
       "      <td>0.0</td>\n",
       "      <td>0.000000</td>\n",
       "      <td>0.000000</td>\n",
       "      <td>1.0</td>\n",
       "      <td>0.000000</td>\n",
       "      <td>0.000000</td>\n",
       "      <td>0.000000</td>\n",
       "      <td>0.000000</td>\n",
       "    </tr>\n",
       "    <tr>\n",
       "      <th>3</th>\n",
       "      <td>4.500</td>\n",
       "      <td>147.5</td>\n",
       "      <td>7.2285</td>\n",
       "      <td>0.0</td>\n",
       "      <td>0.0</td>\n",
       "      <td>0.0</td>\n",
       "      <td>0.000000</td>\n",
       "      <td>1.000000</td>\n",
       "      <td>0.0</td>\n",
       "      <td>0.541667</td>\n",
       "      <td>0.458333</td>\n",
       "      <td>0.000000</td>\n",
       "      <td>0.000000</td>\n",
       "    </tr>\n",
       "    <tr>\n",
       "      <th>4</th>\n",
       "      <td>5.100</td>\n",
       "      <td>167.5</td>\n",
       "      <td>8.7150</td>\n",
       "      <td>0.0</td>\n",
       "      <td>0.0</td>\n",
       "      <td>0.0</td>\n",
       "      <td>0.000000</td>\n",
       "      <td>1.000000</td>\n",
       "      <td>0.0</td>\n",
       "      <td>0.000000</td>\n",
       "      <td>0.000000</td>\n",
       "      <td>0.555592</td>\n",
       "      <td>0.444408</td>\n",
       "    </tr>\n",
       "  </tbody>\n",
       "</table>\n",
       "</div>"
      ],
      "text/plain": [
       "   panicle  growth   yield  VLP   LP   MP        HP       VHP  VLG        LG  \\\n",
       "0    3.975   184.0  7.5000  0.0  0.0  0.0  0.587912  0.412088  0.0  0.000000   \n",
       "1    3.975   184.0  6.7500  0.0  0.0  0.0  0.587912  0.412088  0.0  0.000000   \n",
       "2    2.850   125.0  6.4275  1.0  0.0  0.0  0.000000  0.000000  1.0  0.000000   \n",
       "3    4.500   147.5  7.2285  0.0  0.0  0.0  0.000000  1.000000  0.0  0.541667   \n",
       "4    5.100   167.5  8.7150  0.0  0.0  0.0  0.000000  1.000000  0.0  0.000000   \n",
       "\n",
       "         MG        HG       VHG  \n",
       "0  0.000000  0.000000  1.000000  \n",
       "1  0.000000  0.000000  1.000000  \n",
       "2  0.000000  0.000000  0.000000  \n",
       "3  0.458333  0.000000  0.000000  \n",
       "4  0.000000  0.555592  0.444408  "
      ]
     },
     "execution_count": 7,
     "metadata": {},
     "output_type": "execute_result"
    }
   ],
   "source": [
    "# Fuzzify the input data\n",
    "fuzzy_system_fnn.fuzzify_input()\n",
    "fuzzy_system_fnn.data.head()"
   ]
  },
  {
   "cell_type": "code",
   "execution_count": 8,
   "metadata": {},
   "outputs": [
    {
     "data": {
      "text/html": [
       "<div>\n",
       "<style scoped>\n",
       "    .dataframe tbody tr th:only-of-type {\n",
       "        vertical-align: middle;\n",
       "    }\n",
       "\n",
       "    .dataframe tbody tr th {\n",
       "        vertical-align: top;\n",
       "    }\n",
       "\n",
       "    .dataframe thead th {\n",
       "        text-align: right;\n",
       "    }\n",
       "</style>\n",
       "<table border=\"1\" class=\"dataframe\">\n",
       "  <thead>\n",
       "    <tr style=\"text-align: right;\">\n",
       "      <th></th>\n",
       "      <th>panicle</th>\n",
       "      <th>growth</th>\n",
       "      <th>yield</th>\n",
       "      <th>VLP</th>\n",
       "      <th>LP</th>\n",
       "      <th>MP</th>\n",
       "      <th>HP</th>\n",
       "      <th>VHP</th>\n",
       "      <th>VLG</th>\n",
       "      <th>LG</th>\n",
       "      <th>MG</th>\n",
       "      <th>HG</th>\n",
       "      <th>VHG</th>\n",
       "      <th>real_VLY</th>\n",
       "      <th>real_LY</th>\n",
       "      <th>real_MY</th>\n",
       "      <th>real_HY</th>\n",
       "      <th>real_VHY</th>\n",
       "    </tr>\n",
       "  </thead>\n",
       "  <tbody>\n",
       "    <tr>\n",
       "      <th>0</th>\n",
       "      <td>3.975</td>\n",
       "      <td>184.0</td>\n",
       "      <td>7.5000</td>\n",
       "      <td>0.0</td>\n",
       "      <td>0.0</td>\n",
       "      <td>0.0</td>\n",
       "      <td>0.587912</td>\n",
       "      <td>0.412088</td>\n",
       "      <td>0.0</td>\n",
       "      <td>0.000000</td>\n",
       "      <td>0.000000</td>\n",
       "      <td>0.000000</td>\n",
       "      <td>1.000000</td>\n",
       "      <td>1.0</td>\n",
       "      <td>0.00000</td>\n",
       "      <td>0.00000</td>\n",
       "      <td>0.0</td>\n",
       "      <td>0.0</td>\n",
       "    </tr>\n",
       "    <tr>\n",
       "      <th>1</th>\n",
       "      <td>3.975</td>\n",
       "      <td>184.0</td>\n",
       "      <td>6.7500</td>\n",
       "      <td>0.0</td>\n",
       "      <td>0.0</td>\n",
       "      <td>0.0</td>\n",
       "      <td>0.587912</td>\n",
       "      <td>0.412088</td>\n",
       "      <td>0.0</td>\n",
       "      <td>0.000000</td>\n",
       "      <td>0.000000</td>\n",
       "      <td>0.000000</td>\n",
       "      <td>1.000000</td>\n",
       "      <td>1.0</td>\n",
       "      <td>0.00000</td>\n",
       "      <td>0.00000</td>\n",
       "      <td>0.0</td>\n",
       "      <td>0.0</td>\n",
       "    </tr>\n",
       "    <tr>\n",
       "      <th>2</th>\n",
       "      <td>2.850</td>\n",
       "      <td>125.0</td>\n",
       "      <td>6.4275</td>\n",
       "      <td>1.0</td>\n",
       "      <td>0.0</td>\n",
       "      <td>0.0</td>\n",
       "      <td>0.000000</td>\n",
       "      <td>0.000000</td>\n",
       "      <td>1.0</td>\n",
       "      <td>0.000000</td>\n",
       "      <td>0.000000</td>\n",
       "      <td>0.000000</td>\n",
       "      <td>0.000000</td>\n",
       "      <td>1.0</td>\n",
       "      <td>0.00000</td>\n",
       "      <td>0.00000</td>\n",
       "      <td>0.0</td>\n",
       "      <td>0.0</td>\n",
       "    </tr>\n",
       "    <tr>\n",
       "      <th>3</th>\n",
       "      <td>4.500</td>\n",
       "      <td>147.5</td>\n",
       "      <td>7.2285</td>\n",
       "      <td>0.0</td>\n",
       "      <td>0.0</td>\n",
       "      <td>0.0</td>\n",
       "      <td>0.000000</td>\n",
       "      <td>1.000000</td>\n",
       "      <td>0.0</td>\n",
       "      <td>0.541667</td>\n",
       "      <td>0.458333</td>\n",
       "      <td>0.000000</td>\n",
       "      <td>0.000000</td>\n",
       "      <td>1.0</td>\n",
       "      <td>0.00000</td>\n",
       "      <td>0.00000</td>\n",
       "      <td>0.0</td>\n",
       "      <td>0.0</td>\n",
       "    </tr>\n",
       "    <tr>\n",
       "      <th>4</th>\n",
       "      <td>5.100</td>\n",
       "      <td>167.5</td>\n",
       "      <td>8.7150</td>\n",
       "      <td>0.0</td>\n",
       "      <td>0.0</td>\n",
       "      <td>0.0</td>\n",
       "      <td>0.000000</td>\n",
       "      <td>1.000000</td>\n",
       "      <td>0.0</td>\n",
       "      <td>0.000000</td>\n",
       "      <td>0.000000</td>\n",
       "      <td>0.555592</td>\n",
       "      <td>0.444408</td>\n",
       "      <td>0.0</td>\n",
       "      <td>0.31106</td>\n",
       "      <td>0.68894</td>\n",
       "      <td>0.0</td>\n",
       "      <td>0.0</td>\n",
       "    </tr>\n",
       "  </tbody>\n",
       "</table>\n",
       "</div>"
      ],
      "text/plain": [
       "   panicle  growth   yield  VLP   LP   MP        HP       VHP  VLG        LG  \\\n",
       "0    3.975   184.0  7.5000  0.0  0.0  0.0  0.587912  0.412088  0.0  0.000000   \n",
       "1    3.975   184.0  6.7500  0.0  0.0  0.0  0.587912  0.412088  0.0  0.000000   \n",
       "2    2.850   125.0  6.4275  1.0  0.0  0.0  0.000000  0.000000  1.0  0.000000   \n",
       "3    4.500   147.5  7.2285  0.0  0.0  0.0  0.000000  1.000000  0.0  0.541667   \n",
       "4    5.100   167.5  8.7150  0.0  0.0  0.0  0.000000  1.000000  0.0  0.000000   \n",
       "\n",
       "         MG        HG       VHG  real_VLY  real_LY  real_MY  real_HY  real_VHY  \n",
       "0  0.000000  0.000000  1.000000       1.0  0.00000  0.00000      0.0       0.0  \n",
       "1  0.000000  0.000000  1.000000       1.0  0.00000  0.00000      0.0       0.0  \n",
       "2  0.000000  0.000000  0.000000       1.0  0.00000  0.00000      0.0       0.0  \n",
       "3  0.458333  0.000000  0.000000       1.0  0.00000  0.00000      0.0       0.0  \n",
       "4  0.000000  0.555592  0.444408       0.0  0.31106  0.68894      0.0       0.0  "
      ]
     },
     "execution_count": 8,
     "metadata": {},
     "output_type": "execute_result"
    }
   ],
   "source": [
    "# Fuzzify the output data\n",
    "fuzzy_system_fnn.data['real_VLY'] = fuzzy_system_fnn.data['yield'].apply(fuzzy_system_fnn.mu_VLY)\n",
    "fuzzy_system_fnn.data['real_LY'] = fuzzy_system_fnn.data['yield'].apply(fuzzy_system_fnn.mu_LY)\n",
    "fuzzy_system_fnn.data['real_MY'] = fuzzy_system_fnn.data['yield'].apply(fuzzy_system_fnn.mu_MY)\n",
    "fuzzy_system_fnn.data['real_HY'] = fuzzy_system_fnn.data['yield'].apply(fuzzy_system_fnn.mu_HY)\n",
    "fuzzy_system_fnn.data['real_VHY'] = fuzzy_system_fnn.data['yield'].apply(fuzzy_system_fnn.mu_VHY)\n",
    "\n",
    "fuzzy_system_fnn.data.head()"
   ]
  },
  {
   "cell_type": "code",
   "execution_count": 9,
   "metadata": {},
   "outputs": [
    {
     "data": {
      "text/html": [
       "<div>\n",
       "<style scoped>\n",
       "    .dataframe tbody tr th:only-of-type {\n",
       "        vertical-align: middle;\n",
       "    }\n",
       "\n",
       "    .dataframe tbody tr th {\n",
       "        vertical-align: top;\n",
       "    }\n",
       "\n",
       "    .dataframe thead th {\n",
       "        text-align: right;\n",
       "    }\n",
       "</style>\n",
       "<table border=\"1\" class=\"dataframe\">\n",
       "  <thead>\n",
       "    <tr style=\"text-align: right;\">\n",
       "      <th></th>\n",
       "      <th>panicle</th>\n",
       "      <th>growth</th>\n",
       "      <th>yield</th>\n",
       "      <th>VLP</th>\n",
       "      <th>LP</th>\n",
       "      <th>MP</th>\n",
       "      <th>HP</th>\n",
       "      <th>VHP</th>\n",
       "      <th>VLG</th>\n",
       "      <th>LG</th>\n",
       "      <th>MG</th>\n",
       "      <th>HG</th>\n",
       "      <th>VHG</th>\n",
       "      <th>real_VLY</th>\n",
       "      <th>real_LY</th>\n",
       "      <th>real_MY</th>\n",
       "      <th>real_HY</th>\n",
       "      <th>real_VHY</th>\n",
       "      <th>not_VLP</th>\n",
       "      <th>not_LP</th>\n",
       "      <th>not_MP</th>\n",
       "      <th>not_HP</th>\n",
       "      <th>not_VHP</th>\n",
       "      <th>not_VLG</th>\n",
       "      <th>not_LG</th>\n",
       "      <th>not_MG</th>\n",
       "      <th>not_HG</th>\n",
       "      <th>not_VHG</th>\n",
       "    </tr>\n",
       "  </thead>\n",
       "  <tbody>\n",
       "    <tr>\n",
       "      <th>0</th>\n",
       "      <td>3.975</td>\n",
       "      <td>184.0</td>\n",
       "      <td>7.5000</td>\n",
       "      <td>0.0</td>\n",
       "      <td>0.0</td>\n",
       "      <td>0.0</td>\n",
       "      <td>0.587912</td>\n",
       "      <td>0.412088</td>\n",
       "      <td>0.0</td>\n",
       "      <td>0.000000</td>\n",
       "      <td>0.000000</td>\n",
       "      <td>0.000000</td>\n",
       "      <td>1.000000</td>\n",
       "      <td>1.0</td>\n",
       "      <td>0.00000</td>\n",
       "      <td>0.00000</td>\n",
       "      <td>0.0</td>\n",
       "      <td>0.0</td>\n",
       "      <td>1.0</td>\n",
       "      <td>1.0</td>\n",
       "      <td>1.0</td>\n",
       "      <td>0.412088</td>\n",
       "      <td>0.587912</td>\n",
       "      <td>1.0</td>\n",
       "      <td>1.000000</td>\n",
       "      <td>1.000000</td>\n",
       "      <td>1.000000</td>\n",
       "      <td>0.000000</td>\n",
       "    </tr>\n",
       "    <tr>\n",
       "      <th>1</th>\n",
       "      <td>3.975</td>\n",
       "      <td>184.0</td>\n",
       "      <td>6.7500</td>\n",
       "      <td>0.0</td>\n",
       "      <td>0.0</td>\n",
       "      <td>0.0</td>\n",
       "      <td>0.587912</td>\n",
       "      <td>0.412088</td>\n",
       "      <td>0.0</td>\n",
       "      <td>0.000000</td>\n",
       "      <td>0.000000</td>\n",
       "      <td>0.000000</td>\n",
       "      <td>1.000000</td>\n",
       "      <td>1.0</td>\n",
       "      <td>0.00000</td>\n",
       "      <td>0.00000</td>\n",
       "      <td>0.0</td>\n",
       "      <td>0.0</td>\n",
       "      <td>1.0</td>\n",
       "      <td>1.0</td>\n",
       "      <td>1.0</td>\n",
       "      <td>0.412088</td>\n",
       "      <td>0.587912</td>\n",
       "      <td>1.0</td>\n",
       "      <td>1.000000</td>\n",
       "      <td>1.000000</td>\n",
       "      <td>1.000000</td>\n",
       "      <td>0.000000</td>\n",
       "    </tr>\n",
       "    <tr>\n",
       "      <th>2</th>\n",
       "      <td>2.850</td>\n",
       "      <td>125.0</td>\n",
       "      <td>6.4275</td>\n",
       "      <td>1.0</td>\n",
       "      <td>0.0</td>\n",
       "      <td>0.0</td>\n",
       "      <td>0.000000</td>\n",
       "      <td>0.000000</td>\n",
       "      <td>1.0</td>\n",
       "      <td>0.000000</td>\n",
       "      <td>0.000000</td>\n",
       "      <td>0.000000</td>\n",
       "      <td>0.000000</td>\n",
       "      <td>1.0</td>\n",
       "      <td>0.00000</td>\n",
       "      <td>0.00000</td>\n",
       "      <td>0.0</td>\n",
       "      <td>0.0</td>\n",
       "      <td>0.0</td>\n",
       "      <td>1.0</td>\n",
       "      <td>1.0</td>\n",
       "      <td>1.000000</td>\n",
       "      <td>1.000000</td>\n",
       "      <td>0.0</td>\n",
       "      <td>1.000000</td>\n",
       "      <td>1.000000</td>\n",
       "      <td>1.000000</td>\n",
       "      <td>1.000000</td>\n",
       "    </tr>\n",
       "    <tr>\n",
       "      <th>3</th>\n",
       "      <td>4.500</td>\n",
       "      <td>147.5</td>\n",
       "      <td>7.2285</td>\n",
       "      <td>0.0</td>\n",
       "      <td>0.0</td>\n",
       "      <td>0.0</td>\n",
       "      <td>0.000000</td>\n",
       "      <td>1.000000</td>\n",
       "      <td>0.0</td>\n",
       "      <td>0.541667</td>\n",
       "      <td>0.458333</td>\n",
       "      <td>0.000000</td>\n",
       "      <td>0.000000</td>\n",
       "      <td>1.0</td>\n",
       "      <td>0.00000</td>\n",
       "      <td>0.00000</td>\n",
       "      <td>0.0</td>\n",
       "      <td>0.0</td>\n",
       "      <td>1.0</td>\n",
       "      <td>1.0</td>\n",
       "      <td>1.0</td>\n",
       "      <td>1.000000</td>\n",
       "      <td>0.000000</td>\n",
       "      <td>1.0</td>\n",
       "      <td>0.458333</td>\n",
       "      <td>0.541667</td>\n",
       "      <td>1.000000</td>\n",
       "      <td>1.000000</td>\n",
       "    </tr>\n",
       "    <tr>\n",
       "      <th>4</th>\n",
       "      <td>5.100</td>\n",
       "      <td>167.5</td>\n",
       "      <td>8.7150</td>\n",
       "      <td>0.0</td>\n",
       "      <td>0.0</td>\n",
       "      <td>0.0</td>\n",
       "      <td>0.000000</td>\n",
       "      <td>1.000000</td>\n",
       "      <td>0.0</td>\n",
       "      <td>0.000000</td>\n",
       "      <td>0.000000</td>\n",
       "      <td>0.555592</td>\n",
       "      <td>0.444408</td>\n",
       "      <td>0.0</td>\n",
       "      <td>0.31106</td>\n",
       "      <td>0.68894</td>\n",
       "      <td>0.0</td>\n",
       "      <td>0.0</td>\n",
       "      <td>1.0</td>\n",
       "      <td>1.0</td>\n",
       "      <td>1.0</td>\n",
       "      <td>1.000000</td>\n",
       "      <td>0.000000</td>\n",
       "      <td>1.0</td>\n",
       "      <td>1.000000</td>\n",
       "      <td>1.000000</td>\n",
       "      <td>0.444408</td>\n",
       "      <td>0.555592</td>\n",
       "    </tr>\n",
       "  </tbody>\n",
       "</table>\n",
       "</div>"
      ],
      "text/plain": [
       "   panicle  growth   yield  VLP   LP   MP        HP       VHP  VLG        LG  \\\n",
       "0    3.975   184.0  7.5000  0.0  0.0  0.0  0.587912  0.412088  0.0  0.000000   \n",
       "1    3.975   184.0  6.7500  0.0  0.0  0.0  0.587912  0.412088  0.0  0.000000   \n",
       "2    2.850   125.0  6.4275  1.0  0.0  0.0  0.000000  0.000000  1.0  0.000000   \n",
       "3    4.500   147.5  7.2285  0.0  0.0  0.0  0.000000  1.000000  0.0  0.541667   \n",
       "4    5.100   167.5  8.7150  0.0  0.0  0.0  0.000000  1.000000  0.0  0.000000   \n",
       "\n",
       "         MG        HG       VHG  real_VLY  real_LY  real_MY  real_HY  \\\n",
       "0  0.000000  0.000000  1.000000       1.0  0.00000  0.00000      0.0   \n",
       "1  0.000000  0.000000  1.000000       1.0  0.00000  0.00000      0.0   \n",
       "2  0.000000  0.000000  0.000000       1.0  0.00000  0.00000      0.0   \n",
       "3  0.458333  0.000000  0.000000       1.0  0.00000  0.00000      0.0   \n",
       "4  0.000000  0.555592  0.444408       0.0  0.31106  0.68894      0.0   \n",
       "\n",
       "   real_VHY  not_VLP  not_LP  not_MP    not_HP   not_VHP  not_VLG    not_LG  \\\n",
       "0       0.0      1.0     1.0     1.0  0.412088  0.587912      1.0  1.000000   \n",
       "1       0.0      1.0     1.0     1.0  0.412088  0.587912      1.0  1.000000   \n",
       "2       0.0      0.0     1.0     1.0  1.000000  1.000000      0.0  1.000000   \n",
       "3       0.0      1.0     1.0     1.0  1.000000  0.000000      1.0  0.458333   \n",
       "4       0.0      1.0     1.0     1.0  1.000000  0.000000      1.0  1.000000   \n",
       "\n",
       "     not_MG    not_HG   not_VHG  \n",
       "0  1.000000  1.000000  0.000000  \n",
       "1  1.000000  1.000000  0.000000  \n",
       "2  1.000000  1.000000  1.000000  \n",
       "3  0.541667  1.000000  1.000000  \n",
       "4  1.000000  0.444408  0.555592  "
      ]
     },
     "execution_count": 9,
     "metadata": {},
     "output_type": "execute_result"
    }
   ],
   "source": [
    "# Include negations of the fuzzy sets\n",
    "not_mu = lambda x: 1 - x\n",
    "\n",
    "fuzzy_system_fnn.data['not_VLP'] = fuzzy_system_fnn.data['VLP'].apply(not_mu)\n",
    "fuzzy_system_fnn.data['not_LP'] = fuzzy_system_fnn.data['LP'].apply(not_mu)\n",
    "fuzzy_system_fnn.data['not_MP'] = fuzzy_system_fnn.data['MP'].apply(not_mu)\n",
    "fuzzy_system_fnn.data['not_HP'] = fuzzy_system_fnn.data['HP'].apply(not_mu)\n",
    "fuzzy_system_fnn.data['not_VHP'] = fuzzy_system_fnn.data['VHP'].apply(not_mu)\n",
    "\n",
    "fuzzy_system_fnn.data['not_VLG'] = fuzzy_system_fnn.data['VLG'].apply(not_mu)\n",
    "fuzzy_system_fnn.data['not_LG'] = fuzzy_system_fnn.data['LG'].apply(not_mu)\n",
    "fuzzy_system_fnn.data['not_MG'] = fuzzy_system_fnn.data['MG'].apply(not_mu)\n",
    "fuzzy_system_fnn.data['not_HG'] = fuzzy_system_fnn.data['HG'].apply(not_mu)\n",
    "fuzzy_system_fnn.data['not_VHG'] = fuzzy_system_fnn.data['VHG'].apply(not_mu)\n",
    "\n",
    "fuzzy_system_fnn.data.head()"
   ]
  },
  {
   "cell_type": "code",
   "execution_count": 10,
   "metadata": {},
   "outputs": [
    {
     "data": {
      "text/plain": [
       "((534, 20), (534, 5))"
      ]
     },
     "execution_count": 10,
     "metadata": {},
     "output_type": "execute_result"
    }
   ],
   "source": [
    "X = fuzzy_system_fnn.data[['VLP', 'LP', 'MP', 'HP', 'VHP', \n",
    "                           'VLG', 'LG', 'MG', 'HG', 'VHG', \n",
    "                           'not_VLP', 'not_LP', 'not_MP', 'not_HP', 'not_VHP', \n",
    "                           'not_VLG', 'not_LG', 'not_MG', 'not_HG', 'not_VHG']].values\n",
    "y = fuzzy_system_fnn.data[['real_VLY', 'real_LY', 'real_MY', 'real_HY', 'real_VHY']].values\n",
    "\n",
    "X.shape, y.shape"
   ]
  },
  {
   "attachments": {},
   "cell_type": "markdown",
   "metadata": {},
   "source": [
    "## Model"
   ]
  },
  {
   "cell_type": "code",
   "execution_count": 11,
   "metadata": {},
   "outputs": [],
   "source": [
    "# --- Operators for the fuzzy neural network ---\n",
    "\n",
    "# Note: these operators have been tested before using them here\n",
    "\n",
    "if T_NORM == 'min':\n",
    "    # t-norm for the AND layer, returns a vector\n",
    "    t_norm_and_layer = lambda x: torch.min(x, dim=0).values    \n",
    "\n",
    "    # t-norm for the OR layer, returns a matrix \n",
    "    t_norm_or_layer = lambda x, y: torch.min(x, y)             \n",
    "\n",
    "if T_CONORM == 'max':\n",
    "    # t-conorm for the AND layer, returns a matrix\n",
    "    t_conorm_and_layer = lambda x, y: torch.max(x, y)   \n",
    "\n",
    "    # t-conorm for the OR layer, returns a vector \n",
    "    t_conorm_or_layer = lambda x: torch.max(x, dim=0).values  \n",
    "\n",
    "\n",
    "if T_NORM == 'product':\n",
    "    # t-norm for the AND layer, returns a vector\n",
    "    t_norm_and_layer = lambda x: torch.prod(x, dim=0)    \n",
    "\n",
    "    # t-norm for the OR layer, returns a matrix\n",
    "    t_norm_or_layer = lambda x, y: torch.mul(x, y)       \n",
    "\n",
    "if T_CONORM == 'sum':\n",
    "    # t-conorm for the AND layer, returns a matrix\n",
    "    t_conorm_and_layer = lambda x, y: x + y - torch.mul(x, y)        \n",
    "    \n",
    "    # sum t-conorm\n",
    "    t_conorm_sum = lambda x, y: x + y - torch.mul(x, y)         \n",
    "\n",
    "    # t-conorm for the OR layer, returns a vector       \n",
    "    def t_conorm_or_layer(x):                                          \n",
    "        while True:\n",
    "            if x.shape[0] == 1:\n",
    "                x.reshape(-1)\n",
    "                break\n",
    "            elif x.shape[0] == 2:\n",
    "                x = t_conorm_sum(x[0], x[1])\n",
    "                x.reshape(-1)\n",
    "                break\n",
    "            else:\n",
    "                x = torch.cat((torch.stack([t_conorm_sum(x[0][i], x[1][i]) for i in range(x.shape[1])]).reshape(1,-1), x[2:]))\n",
    "        return x\n",
    "        \n",
    "\n",
    "if T_NORM == 'lukasiewicz':\n",
    "    # lukaiewicz t-norm\n",
    "    t_norm_lukasiewicz = lambda x, y: torch.max(torch.zeros(x.shape), x + y - 1)\n",
    "\n",
    "    # t-norm for the AND layer, returns a vector\n",
    "    def t_norm_and_layer(x):\n",
    "        while True:\n",
    "            if x.shape[0] == 1:\n",
    "                x.reshape(-1)\n",
    "                break\n",
    "            elif x.shape[0] == 2:\n",
    "                x = t_norm_lukasiewicz(x[0], x[1])\n",
    "                x.reshape(-1)\n",
    "                break\n",
    "            else:\n",
    "                x = torch.cat((torch.stack([t_norm_lukasiewicz(x[0][i], x[1][i]) for i in range(x.shape[1])]).reshape(1,-1), x[2:]))\n",
    "        return x\n",
    "\n",
    "    # t-norm for the OR layer, returns a matrix \n",
    "    t_norm_or_layer = lambda x, y: torch.max(torch.zeros(x.shape), x + y - 1)\n",
    "\n",
    "if T_CONORM == 'lukasiewicz':\n",
    "    # t-conorm for the AND layer, returns a matrix\n",
    "    t_conorm_and_layer = lambda x, y: torch.min(torch.ones(x.shape), x + y)\n",
    "    \n",
    "    # lukasiewicz t-conorm\n",
    "    t_conorm_lukasiewicz = lambda x, y: torch.min(torch.ones(x.shape), x + y)\n",
    "\n",
    "    # t-conorm for the OR layer, returns a vector\n",
    "    def t_conorm_or_layer(x):                                     \n",
    "        while True:\n",
    "            if x.shape[0] == 1:\n",
    "                x.reshape(-1)\n",
    "                break\n",
    "            elif x.shape[0] == 2:\n",
    "                x = t_conorm_lukasiewicz(x[0], x[1])\n",
    "                x.reshape(-1)\n",
    "                break\n",
    "            else:\n",
    "                x = torch.cat((torch.stack([t_conorm_lukasiewicz(x[0][i], x[1][i]) for i in range(x.shape[1])]).reshape(1,-1), x[2:]))\n",
    "        return x"
   ]
  },
  {
   "cell_type": "code",
   "execution_count": 12,
   "metadata": {},
   "outputs": [],
   "source": [
    "# --- And layers and Or layers ---\n",
    "\n",
    "np.random.seed(2)\n",
    "torch.manual_seed(2)\n",
    "\n",
    "class AndLayer(nn.Module):\n",
    "    \"\"\"\n",
    "    AND layer of the fuzzy neural network.\n",
    "    \"\"\"\n",
    "    def __init__(self, in_units, out_units):\n",
    "        \"\"\"\n",
    "        Initialize the layer.\n",
    "\n",
    "        Args:\n",
    "            in_units (int): Number of inputs\n",
    "            out_units (int): Number of outputs\n",
    "        \"\"\"\n",
    "        super().__init__()\n",
    "        self.weight = nn.Parameter(torch.rand((in_units, out_units)))\n",
    "\n",
    "    def forward(self, X):\n",
    "        \"\"\"\n",
    "        Forward pass of the layer.\n",
    "\n",
    "        Args:\n",
    "            X (torch.Tensor): Input tensor of shape (in_units)\n",
    "        \n",
    "        Returns:\n",
    "            torch.Tensor: Output tensor of shape (out_units)\n",
    "        \"\"\"\n",
    "\n",
    "        with torch.no_grad():\n",
    "            # reshape X to a matrix of shape (in_units, 1) (column vector)\n",
    "            X = X.reshape(-1, 1)\n",
    "            # repeat X along columns, so that every column is equal to previous X\n",
    "            X = X.expand_as(self.weight)\n",
    "\n",
    "        # t_conorm of weigths and X (this gives, for each column of weights, the \n",
    "        # t_conorm between the input X and the column of weights)\n",
    "        OR_matrix = t_conorm_and_layer(X, self.weight)   \n",
    "\n",
    "        # t_norm of each column of OR_matrix\n",
    "        AND_vector = t_norm_and_layer(OR_matrix)     \n",
    "        \n",
    "        return AND_vector \n",
    "\n",
    "class OrLayer(nn.Module):\n",
    "    \"\"\"\n",
    "    OR layer of the fuzzy neural network.\n",
    "    \"\"\"\n",
    "    def __init__(self, in_units, out_units):\n",
    "        \"\"\"\n",
    "        Initialize the layer.\n",
    "\n",
    "        Args:\n",
    "            in_units (int): Number of inputs\n",
    "            out_units (int): Number of outputs\n",
    "        \"\"\"\n",
    "        super().__init__()\n",
    "        self.weight = nn.Parameter(torch.rand((in_units, out_units)))\n",
    "\n",
    "    def forward(self, X):\n",
    "        \"\"\"\n",
    "        Forward pass of the layer.\n",
    "\n",
    "        Args:\n",
    "            X (torch.Tensor): Input tensor of shape (in_units)\n",
    "\n",
    "        Returns:\n",
    "            torch.Tensor: Output tensor of shape (out_units)\n",
    "        \"\"\"\n",
    "\n",
    "        with torch.no_grad():\n",
    "            # reshape X to a matrix of shape (in_units, 1) (column vector)\n",
    "            X = X.reshape(-1, 1)\n",
    "            # repeat X along columns, so that every column is equal to previous X\n",
    "            X = X.expand_as(self.weight)\n",
    "\n",
    "        # t_norm of weigths and X (this gives, for each column of weights, the \n",
    "        # t_norm between the input X and the column of weights)\n",
    "        AND_matrix = t_norm_or_layer(X, self.weight)    \n",
    "\n",
    "        # t_conorm of each column of AND_matrix\n",
    "        OR_vector = t_conorm_or_layer(AND_matrix)     \n",
    "\n",
    "        return OR_vector\n",
    "    \n",
    "\n",
    "# --- Fuzzy Neural Network ---\n",
    "    \n",
    "# Note: the network is defined specifically for the use case of the rice yield \n",
    "# prediction shown in the text. The hyperparameters (number of layers, number of\n",
    "# neurons per layer, input and output shape, etc.) can be changed to fit other use cases.\n",
    "\n",
    "\n",
    "class FuzzyNeuralNetwork(nn.Module):\n",
    "    \"\"\"\n",
    "    Fuzzy Neural Network.\n",
    "    \"\"\"\n",
    "    def __init__(self):\n",
    "        \"\"\"\n",
    "        Initialize the network.\n",
    "        \"\"\"\n",
    "        super(FuzzyNeuralNetwork, self).__init__()\n",
    "        self.l1 = AndLayer(20,20)\n",
    "        self.l2 = OrLayer(20,10)\n",
    "        self.l3 = OrLayer(10,5)\n",
    "\n",
    "    def forward(self,x):\n",
    "        \"\"\"\n",
    "        Forward pass of the network.\n",
    "\n",
    "        Args:\n",
    "            x (torch.Tensor): Input tensor of shape (20)\n",
    "\n",
    "        Returns:\n",
    "            torch.Tensor: Output tensor of shape (5)\n",
    "        \"\"\"\n",
    "        out= self.l1(x)\n",
    "        out= self.l2(out)\n",
    "        out= self.l3(out)   \n",
    "\n",
    "        return(out)\n"
   ]
  },
  {
   "attachments": {},
   "cell_type": "markdown",
   "metadata": {},
   "source": [
    "## Training and testing"
   ]
  },
  {
   "cell_type": "code",
   "execution_count": 13,
   "metadata": {},
   "outputs": [],
   "source": [
    "model = FuzzyNeuralNetwork()\n",
    "loss_function = nn.MSELoss()    # Mean Squared Error\n",
    "optimizer = optim.Adam(model.parameters(), lr=0.1)  "
   ]
  },
  {
   "cell_type": "code",
   "execution_count": 14,
   "metadata": {},
   "outputs": [
    {
     "name": "stdout",
     "output_type": "stream",
     "text": [
      "FuzzyNeuralNetwork(\n",
      "  (l1): AndLayer()\n",
      "  (l2): OrLayer()\n",
      "  (l3): OrLayer()\n",
      ")\n"
     ]
    }
   ],
   "source": [
    "print(model)"
   ]
  },
  {
   "cell_type": "code",
   "execution_count": 15,
   "metadata": {},
   "outputs": [
    {
     "data": {
      "application/vnd.jupyter.widget-view+json": {
       "model_id": "de3589c3ceb64e7bb5d307dd1942f102",
       "version_major": 2,
       "version_minor": 0
      },
      "text/plain": [
       "  0%|          | 0/427 [00:00<?, ?it/s]"
      ]
     },
     "metadata": {},
     "output_type": "display_data"
    },
    {
     "name": "stdout",
     "output_type": "stream",
     "text": [
      "Train loss: 0.114160\n",
      "Test loss: 0.094052\n"
     ]
    },
    {
     "data": {
      "application/vnd.jupyter.widget-view+json": {
       "model_id": "cd4f05091a02486f9d2332f98afd8572",
       "version_major": 2,
       "version_minor": 0
      },
      "text/plain": [
       "  0%|          | 0/427 [00:00<?, ?it/s]"
      ]
     },
     "metadata": {},
     "output_type": "display_data"
    },
    {
     "name": "stdout",
     "output_type": "stream",
     "text": [
      "Train loss: 0.111967\n",
      "Test loss: 0.092464\n"
     ]
    },
    {
     "data": {
      "application/vnd.jupyter.widget-view+json": {
       "model_id": "cbd6e912fb7f45e598d7d04ce4bfe00f",
       "version_major": 2,
       "version_minor": 0
      },
      "text/plain": [
       "  0%|          | 0/427 [00:00<?, ?it/s]"
      ]
     },
     "metadata": {},
     "output_type": "display_data"
    },
    {
     "name": "stdout",
     "output_type": "stream",
     "text": [
      "Train loss: 0.110527\n",
      "Test loss: 0.091573\n"
     ]
    },
    {
     "data": {
      "application/vnd.jupyter.widget-view+json": {
       "model_id": "3bcd6265a67443f89b346745359549eb",
       "version_major": 2,
       "version_minor": 0
      },
      "text/plain": [
       "  0%|          | 0/427 [00:00<?, ?it/s]"
      ]
     },
     "metadata": {},
     "output_type": "display_data"
    },
    {
     "name": "stdout",
     "output_type": "stream",
     "text": [
      "Train loss: 0.109569\n",
      "Test loss: 0.091058\n"
     ]
    },
    {
     "data": {
      "application/vnd.jupyter.widget-view+json": {
       "model_id": "1b19f1fa57754a189c9de5a530b5ec8b",
       "version_major": 2,
       "version_minor": 0
      },
      "text/plain": [
       "  0%|          | 0/427 [00:00<?, ?it/s]"
      ]
     },
     "metadata": {},
     "output_type": "display_data"
    },
    {
     "name": "stdout",
     "output_type": "stream",
     "text": [
      "Train loss: 0.108901\n",
      "Test loss: 0.090741\n"
     ]
    },
    {
     "data": {
      "application/vnd.jupyter.widget-view+json": {
       "model_id": "54f22e4bf4824381936a7f15fe7d5341",
       "version_major": 2,
       "version_minor": 0
      },
      "text/plain": [
       "  0%|          | 0/427 [00:00<?, ?it/s]"
      ]
     },
     "metadata": {},
     "output_type": "display_data"
    },
    {
     "name": "stdout",
     "output_type": "stream",
     "text": [
      "Train loss: 0.108415\n",
      "Test loss: 0.090530\n"
     ]
    },
    {
     "data": {
      "application/vnd.jupyter.widget-view+json": {
       "model_id": "b47a8be5f14a47f7999c68839ebcfa2d",
       "version_major": 2,
       "version_minor": 0
      },
      "text/plain": [
       "  0%|          | 0/427 [00:00<?, ?it/s]"
      ]
     },
     "metadata": {},
     "output_type": "display_data"
    },
    {
     "name": "stdout",
     "output_type": "stream",
     "text": [
      "Train loss: 0.108046\n",
      "Test loss: 0.090379\n"
     ]
    },
    {
     "data": {
      "application/vnd.jupyter.widget-view+json": {
       "model_id": "caae7eb099d54bc6a626c9c19e845dc2",
       "version_major": 2,
       "version_minor": 0
      },
      "text/plain": [
       "  0%|          | 0/427 [00:00<?, ?it/s]"
      ]
     },
     "metadata": {},
     "output_type": "display_data"
    },
    {
     "name": "stdout",
     "output_type": "stream",
     "text": [
      "Train loss: 0.107760\n",
      "Test loss: 0.090264\n"
     ]
    },
    {
     "data": {
      "application/vnd.jupyter.widget-view+json": {
       "model_id": "8111572e87ea49b89db9c2e5b92798ab",
       "version_major": 2,
       "version_minor": 0
      },
      "text/plain": [
       "  0%|          | 0/427 [00:00<?, ?it/s]"
      ]
     },
     "metadata": {},
     "output_type": "display_data"
    },
    {
     "name": "stdout",
     "output_type": "stream",
     "text": [
      "Train loss: 0.107532\n",
      "Test loss: 0.090172\n"
     ]
    },
    {
     "data": {
      "application/vnd.jupyter.widget-view+json": {
       "model_id": "56e38ae1dd474bb190c0dd3a44444586",
       "version_major": 2,
       "version_minor": 0
      },
      "text/plain": [
       "  0%|          | 0/427 [00:00<?, ?it/s]"
      ]
     },
     "metadata": {},
     "output_type": "display_data"
    },
    {
     "name": "stdout",
     "output_type": "stream",
     "text": [
      "Train loss: 0.107348\n",
      "Test loss: 0.090097\n"
     ]
    },
    {
     "data": {
      "application/vnd.jupyter.widget-view+json": {
       "model_id": "b013cf9230d44f01aff157524251e347",
       "version_major": 2,
       "version_minor": 0
      },
      "text/plain": [
       "  0%|          | 0/427 [00:00<?, ?it/s]"
      ]
     },
     "metadata": {},
     "output_type": "display_data"
    },
    {
     "name": "stdout",
     "output_type": "stream",
     "text": [
      "Train loss: 0.107198\n",
      "Test loss: 0.090036\n"
     ]
    },
    {
     "data": {
      "application/vnd.jupyter.widget-view+json": {
       "model_id": "96f83f1e759e4e90aff5802f067bf27d",
       "version_major": 2,
       "version_minor": 0
      },
      "text/plain": [
       "  0%|          | 0/427 [00:00<?, ?it/s]"
      ]
     },
     "metadata": {},
     "output_type": "display_data"
    },
    {
     "name": "stdout",
     "output_type": "stream",
     "text": [
      "Train loss: 0.107075\n",
      "Test loss: 0.089985\n"
     ]
    },
    {
     "data": {
      "application/vnd.jupyter.widget-view+json": {
       "model_id": "6e952990ec6f49af8a74dcdd7af514b0",
       "version_major": 2,
       "version_minor": 0
      },
      "text/plain": [
       "  0%|          | 0/427 [00:00<?, ?it/s]"
      ]
     },
     "metadata": {},
     "output_type": "display_data"
    },
    {
     "name": "stdout",
     "output_type": "stream",
     "text": [
      "Train loss: 0.106974\n",
      "Test loss: 0.089944\n"
     ]
    },
    {
     "data": {
      "application/vnd.jupyter.widget-view+json": {
       "model_id": "5c23dfb0fafc4410be98cd0d462916af",
       "version_major": 2,
       "version_minor": 0
      },
      "text/plain": [
       "  0%|          | 0/427 [00:00<?, ?it/s]"
      ]
     },
     "metadata": {},
     "output_type": "display_data"
    },
    {
     "name": "stdout",
     "output_type": "stream",
     "text": [
      "Train loss: 0.106889\n",
      "Test loss: 0.089910\n"
     ]
    },
    {
     "data": {
      "application/vnd.jupyter.widget-view+json": {
       "model_id": "18a5050af40a48df94a87a6aadb23cf4",
       "version_major": 2,
       "version_minor": 0
      },
      "text/plain": [
       "  0%|          | 0/427 [00:00<?, ?it/s]"
      ]
     },
     "metadata": {},
     "output_type": "display_data"
    },
    {
     "name": "stdout",
     "output_type": "stream",
     "text": [
      "Train loss: 0.106819\n",
      "Test loss: 0.089882\n"
     ]
    },
    {
     "data": {
      "application/vnd.jupyter.widget-view+json": {
       "model_id": "4330f5c222354a07acd17be2ae951a28",
       "version_major": 2,
       "version_minor": 0
      },
      "text/plain": [
       "  0%|          | 0/427 [00:00<?, ?it/s]"
      ]
     },
     "metadata": {},
     "output_type": "display_data"
    },
    {
     "name": "stdout",
     "output_type": "stream",
     "text": [
      "Train loss: 0.106759\n",
      "Test loss: 0.089860\n"
     ]
    },
    {
     "data": {
      "application/vnd.jupyter.widget-view+json": {
       "model_id": "cc65f50496814936b41a634ffd3ec636",
       "version_major": 2,
       "version_minor": 0
      },
      "text/plain": [
       "  0%|          | 0/427 [00:00<?, ?it/s]"
      ]
     },
     "metadata": {},
     "output_type": "display_data"
    },
    {
     "name": "stdout",
     "output_type": "stream",
     "text": [
      "Train loss: 0.106709\n",
      "Test loss: 0.089843\n"
     ]
    },
    {
     "data": {
      "application/vnd.jupyter.widget-view+json": {
       "model_id": "a0c47dcdb53c4eeda1901699a9c4c7a3",
       "version_major": 2,
       "version_minor": 0
      },
      "text/plain": [
       "  0%|          | 0/427 [00:00<?, ?it/s]"
      ]
     },
     "metadata": {},
     "output_type": "display_data"
    },
    {
     "name": "stdout",
     "output_type": "stream",
     "text": [
      "Train loss: 0.106667\n",
      "Test loss: 0.089830\n"
     ]
    },
    {
     "data": {
      "application/vnd.jupyter.widget-view+json": {
       "model_id": "8f1498b177d2479aa03b99fa3b57fb6d",
       "version_major": 2,
       "version_minor": 0
      },
      "text/plain": [
       "  0%|          | 0/427 [00:00<?, ?it/s]"
      ]
     },
     "metadata": {},
     "output_type": "display_data"
    },
    {
     "name": "stdout",
     "output_type": "stream",
     "text": [
      "Train loss: 0.106630\n",
      "Test loss: 0.089820\n"
     ]
    },
    {
     "data": {
      "application/vnd.jupyter.widget-view+json": {
       "model_id": "a5d6cb5f2bd644eaae1f2c321c4e2077",
       "version_major": 2,
       "version_minor": 0
      },
      "text/plain": [
       "  0%|          | 0/427 [00:00<?, ?it/s]"
      ]
     },
     "metadata": {},
     "output_type": "display_data"
    },
    {
     "name": "stdout",
     "output_type": "stream",
     "text": [
      "Train loss: 0.106599\n",
      "Test loss: 0.089814\n"
     ]
    },
    {
     "data": {
      "application/vnd.jupyter.widget-view+json": {
       "model_id": "60b287a9dbf84afa98ce8d0580ba4cc1",
       "version_major": 2,
       "version_minor": 0
      },
      "text/plain": [
       "  0%|          | 0/427 [00:00<?, ?it/s]"
      ]
     },
     "metadata": {},
     "output_type": "display_data"
    },
    {
     "name": "stdout",
     "output_type": "stream",
     "text": [
      "Train loss: 0.106572\n",
      "Test loss: 0.089809\n"
     ]
    },
    {
     "data": {
      "application/vnd.jupyter.widget-view+json": {
       "model_id": "38a17133abc94e0f8f8153e270c2ecbb",
       "version_major": 2,
       "version_minor": 0
      },
      "text/plain": [
       "  0%|          | 0/427 [00:00<?, ?it/s]"
      ]
     },
     "metadata": {},
     "output_type": "display_data"
    },
    {
     "name": "stdout",
     "output_type": "stream",
     "text": [
      "Train loss: 0.106548\n",
      "Test loss: 0.089807\n"
     ]
    },
    {
     "data": {
      "application/vnd.jupyter.widget-view+json": {
       "model_id": "253e9df70a1e457e80ef7392cb6c5bef",
       "version_major": 2,
       "version_minor": 0
      },
      "text/plain": [
       "  0%|          | 0/427 [00:00<?, ?it/s]"
      ]
     },
     "metadata": {},
     "output_type": "display_data"
    },
    {
     "name": "stdout",
     "output_type": "stream",
     "text": [
      "Train loss: 0.106527\n",
      "Test loss: 0.089806\n"
     ]
    },
    {
     "data": {
      "application/vnd.jupyter.widget-view+json": {
       "model_id": "efdd06bb356c4edd9a83a421a3d0f351",
       "version_major": 2,
       "version_minor": 0
      },
      "text/plain": [
       "  0%|          | 0/427 [00:00<?, ?it/s]"
      ]
     },
     "metadata": {},
     "output_type": "display_data"
    },
    {
     "name": "stdout",
     "output_type": "stream",
     "text": [
      "Train loss: 0.106508\n",
      "Test loss: 0.089807\n"
     ]
    },
    {
     "data": {
      "application/vnd.jupyter.widget-view+json": {
       "model_id": "1a26e63c5b8b4dc3a38086fc9f7fb425",
       "version_major": 2,
       "version_minor": 0
      },
      "text/plain": [
       "  0%|          | 0/427 [00:00<?, ?it/s]"
      ]
     },
     "metadata": {},
     "output_type": "display_data"
    },
    {
     "name": "stdout",
     "output_type": "stream",
     "text": [
      "Train loss: 0.106492\n",
      "Test loss: 0.089809\n"
     ]
    }
   ],
   "source": [
    "# train-test split of the dataset based on time: first 80% entries are training data, last 20% are test data\n",
    "X_train, X_test= np.split(X, [int(.8 *len(X))])\n",
    "y_train, y_test= np.split(y, [int(.8 *len(y))])\n",
    "\n",
    "# convert numpy arrays to torch tensors\n",
    "X_train = torch.FloatTensor(X_train)\n",
    "X_test = torch.FloatTensor(X_test)\n",
    "y_train = torch.FloatTensor(y_train)\n",
    "y_test = torch.FloatTensor(y_test)\n",
    "\n",
    "# parameters for training\n",
    "n_epochs = 25\n",
    "\n",
    "# save the best model for later analysis\n",
    "best_mse = np.inf   # initialize to infinity\n",
    "best_weights = None\n",
    "\n",
    "# save losses for later visualization\n",
    "test_losses = []\n",
    "train_losses = []\n",
    "\n",
    "# training loop\n",
    "for epoch in range(n_epochs):\n",
    "    model.train()\n",
    "    epoch_train_losses = []\n",
    "\n",
    "    with tqdm(total=len(X_train)) as bar:\n",
    "        bar.set_description(f\"Epoch {epoch+1}\")\n",
    "        for i in range(len(X_train)):\n",
    "            # take a sample\n",
    "            X_sample = X_train[i]\n",
    "            y_sample = y_train[i]\n",
    "\n",
    "            # forward pass\n",
    "            y_pred = model(X_sample)\n",
    "            loss = loss_function(y_pred, y_sample)\n",
    "\n",
    "            # backward pass\n",
    "            optimizer.zero_grad()\n",
    "            loss.backward()\n",
    "\n",
    "            # update weights\n",
    "            optimizer.step()\n",
    "            \n",
    "            # save loss for later visualization\n",
    "            epoch_train_losses.append(float(loss))\n",
    "            \n",
    "            # print progress\n",
    "            bar.update()\n",
    "            \n",
    "\n",
    "    # evaluate accuracy at end of each epoch\n",
    "    model.eval()\n",
    "    y_pred = torch.stack([model(X_test[i]) for i in range(X_test.shape[0])])\n",
    "    test_loss = float(loss_function(y_pred, y_test))\n",
    "\n",
    "    # save loss and best model\n",
    "    mean_train_loss = np.mean(epoch_train_losses)\n",
    "    train_losses.append(mean_train_loss)\n",
    "    test_losses.append(test_loss)\n",
    "    if test_loss < best_mse:\n",
    "        best_mse = test_loss\n",
    "        best_weights = copy.deepcopy(model.state_dict())\n",
    "\n",
    "    last_mse = test_loss\n",
    "    last_weights = copy.deepcopy(model.state_dict())\n",
    "    \n",
    "    print(f\"Train loss: {mean_train_loss:.6f}\")\n",
    "    print(f\"Test loss: {test_loss:.6f}\")"
   ]
  },
  {
   "attachments": {},
   "cell_type": "markdown",
   "metadata": {},
   "source": [
    "## Results"
   ]
  },
  {
   "cell_type": "code",
   "execution_count": 18,
   "metadata": {},
   "outputs": [
    {
     "name": "stdout",
     "output_type": "stream",
     "text": [
      "Best MSE: 0.089806\n",
      "Last MSE: 0.089809\n"
     ]
    },
    {
     "data": {
      "image/png": "[encoded data removed]",
      "text/plain": [
       "<Figure size 400x250 with 1 Axes>"
      ]
     },
     "metadata": {},
     "output_type": "display_data"
    }
   ],
   "source": [
    "# Analysis of the results\n",
    "print(\"Best MSE: %.6f\" % best_mse)\n",
    "print(\"Last MSE: %.6f\" % last_mse)\n",
    "\n",
    "# plot train losses\n",
    "plt.figure(figsize=(4,2.5))\n",
    "\n",
    "plt.plot(range(1,len(train_losses)+1), train_losses, color='black')\n",
    "plt.scatter(range(1,len(train_losses)+1), train_losses, marker='o', s=5, color='black')\n",
    "\n",
    "plt.title('Train loss', fontsize=11)\n",
    "plt.xlabel('Epoch', fontsize=11)\n",
    "plt.ylabel('Loss', fontsize=11)\n",
    "plt.xticks(fontsize=11)\n",
    "plt.yticks(fontsize=11)\n",
    "\n",
    "plt.tight_layout()\n",
    "plt.show()"
   ]
  },
  {
   "cell_type": "code",
   "execution_count": 19,
   "metadata": {},
   "outputs": [
    {
     "data": {
      "image/png": "[encoded data removed]",
      "text/plain": [
       "<Figure size 400x250 with 1 Axes>"
      ]
     },
     "metadata": {},
     "output_type": "display_data"
    }
   ],
   "source": [
    "# plot test losses\n",
    "plt.figure(figsize=(4,2.5))\n",
    "\n",
    "plt.plot(range(1,len(test_losses)+1), test_losses, color='black')\n",
    "plt.scatter(range(1,len(test_losses)+1), test_losses, marker='o', s=5, color='black')\n",
    "\n",
    "plt.title('Test loss', fontsize=11)\n",
    "plt.xlabel('Epoch', fontsize=11)\n",
    "plt.ylabel('Loss', fontsize=11)\n",
    "plt.xticks(fontsize=11)\n",
    "plt.yticks(fontsize=11)\n",
    "\n",
    "plt.tight_layout()\n",
    "plt.show()"
   ]
  },
  {
   "attachments": {},
   "cell_type": "markdown",
   "metadata": {},
   "source": [
    "## Defuzzification"
   ]
  },
  {
   "attachments": {},
   "cell_type": "markdown",
   "metadata": {},
   "source": [
    "Predict crisp yield for all dataset, and select test data to analyze the results."
   ]
  },
  {
   "cell_type": "code",
   "execution_count": 22,
   "metadata": {},
   "outputs": [],
   "source": [
    "model.load_state_dict(last_weights)\n",
    "\n",
    "y_pred_train = torch.stack([model(X_train[i]) for i in range(X_train.shape[0])])\n",
    "y_pred_test = torch.stack([model(X_test[i]) for i in range(X_test.shape[0])])\n",
    "# concatenate\n",
    "y_pred = torch.cat((y_pred_train, y_pred_test))\n",
    "\n",
    "# Add predicted membership values to the dataset\n",
    "fuzzy_system_fnn.data['pred_VLY'] = y_pred[:,0].detach().numpy()\n",
    "fuzzy_system_fnn.data['pred_LY'] = y_pred[:,1].detach().numpy()\n",
    "fuzzy_system_fnn.data['pred_MY'] = y_pred[:,2].detach().numpy()\n",
    "fuzzy_system_fnn.data['pred_HY'] = y_pred[:,3].detach().numpy()\n",
    "fuzzy_system_fnn.data['pred_VHY'] = y_pred[:,4].detach().numpy()"
   ]
  },
  {
   "cell_type": "code",
   "execution_count": 23,
   "metadata": {},
   "outputs": [
    {
     "data": {
      "text/html": [
       "<div>\n",
       "<style scoped>\n",
       "    .dataframe tbody tr th:only-of-type {\n",
       "        vertical-align: middle;\n",
       "    }\n",
       "\n",
       "    .dataframe tbody tr th {\n",
       "        vertical-align: top;\n",
       "    }\n",
       "\n",
       "    .dataframe thead th {\n",
       "        text-align: right;\n",
       "    }\n",
       "</style>\n",
       "<table border=\"1\" class=\"dataframe\">\n",
       "  <thead>\n",
       "    <tr style=\"text-align: right;\">\n",
       "      <th></th>\n",
       "      <th>panicle</th>\n",
       "      <th>growth</th>\n",
       "      <th>yield</th>\n",
       "      <th>VLP</th>\n",
       "      <th>LP</th>\n",
       "      <th>MP</th>\n",
       "      <th>HP</th>\n",
       "      <th>VHP</th>\n",
       "      <th>VLG</th>\n",
       "      <th>LG</th>\n",
       "      <th>MG</th>\n",
       "      <th>HG</th>\n",
       "      <th>VHG</th>\n",
       "      <th>real_VLY</th>\n",
       "      <th>real_LY</th>\n",
       "      <th>real_MY</th>\n",
       "      <th>real_HY</th>\n",
       "      <th>real_VHY</th>\n",
       "      <th>not_VLP</th>\n",
       "      <th>not_LP</th>\n",
       "      <th>not_MP</th>\n",
       "      <th>not_HP</th>\n",
       "      <th>not_VHP</th>\n",
       "      <th>not_VLG</th>\n",
       "      <th>not_LG</th>\n",
       "      <th>not_MG</th>\n",
       "      <th>not_HG</th>\n",
       "      <th>not_VHG</th>\n",
       "      <th>pred_VLY</th>\n",
       "      <th>pred_LY</th>\n",
       "      <th>pred_MY</th>\n",
       "      <th>pred_HY</th>\n",
       "      <th>pred_VHY</th>\n",
       "    </tr>\n",
       "  </thead>\n",
       "  <tbody>\n",
       "    <tr>\n",
       "      <th>0</th>\n",
       "      <td>3.975</td>\n",
       "      <td>184.0</td>\n",
       "      <td>7.5000</td>\n",
       "      <td>0.0</td>\n",
       "      <td>0.0</td>\n",
       "      <td>0.0</td>\n",
       "      <td>0.587912</td>\n",
       "      <td>0.412088</td>\n",
       "      <td>0.0</td>\n",
       "      <td>0.000000</td>\n",
       "      <td>0.000000</td>\n",
       "      <td>0.000000</td>\n",
       "      <td>1.000000</td>\n",
       "      <td>1.0</td>\n",
       "      <td>0.00000</td>\n",
       "      <td>0.00000</td>\n",
       "      <td>0.0</td>\n",
       "      <td>0.0</td>\n",
       "      <td>1.0</td>\n",
       "      <td>1.0</td>\n",
       "      <td>1.0</td>\n",
       "      <td>0.412088</td>\n",
       "      <td>0.587912</td>\n",
       "      <td>1.0</td>\n",
       "      <td>1.000000</td>\n",
       "      <td>1.000000</td>\n",
       "      <td>1.000000</td>\n",
       "      <td>0.000000</td>\n",
       "      <td>0.208716</td>\n",
       "      <td>0.257209</td>\n",
       "      <td>0.362847</td>\n",
       "      <td>0.171780</td>\n",
       "      <td>0.397926</td>\n",
       "    </tr>\n",
       "    <tr>\n",
       "      <th>1</th>\n",
       "      <td>3.975</td>\n",
       "      <td>184.0</td>\n",
       "      <td>6.7500</td>\n",
       "      <td>0.0</td>\n",
       "      <td>0.0</td>\n",
       "      <td>0.0</td>\n",
       "      <td>0.587912</td>\n",
       "      <td>0.412088</td>\n",
       "      <td>0.0</td>\n",
       "      <td>0.000000</td>\n",
       "      <td>0.000000</td>\n",
       "      <td>0.000000</td>\n",
       "      <td>1.000000</td>\n",
       "      <td>1.0</td>\n",
       "      <td>0.00000</td>\n",
       "      <td>0.00000</td>\n",
       "      <td>0.0</td>\n",
       "      <td>0.0</td>\n",
       "      <td>1.0</td>\n",
       "      <td>1.0</td>\n",
       "      <td>1.0</td>\n",
       "      <td>0.412088</td>\n",
       "      <td>0.587912</td>\n",
       "      <td>1.0</td>\n",
       "      <td>1.000000</td>\n",
       "      <td>1.000000</td>\n",
       "      <td>1.000000</td>\n",
       "      <td>0.000000</td>\n",
       "      <td>0.208716</td>\n",
       "      <td>0.257209</td>\n",
       "      <td>0.362847</td>\n",
       "      <td>0.171780</td>\n",
       "      <td>0.397926</td>\n",
       "    </tr>\n",
       "    <tr>\n",
       "      <th>2</th>\n",
       "      <td>2.850</td>\n",
       "      <td>125.0</td>\n",
       "      <td>6.4275</td>\n",
       "      <td>1.0</td>\n",
       "      <td>0.0</td>\n",
       "      <td>0.0</td>\n",
       "      <td>0.000000</td>\n",
       "      <td>0.000000</td>\n",
       "      <td>1.0</td>\n",
       "      <td>0.000000</td>\n",
       "      <td>0.000000</td>\n",
       "      <td>0.000000</td>\n",
       "      <td>0.000000</td>\n",
       "      <td>1.0</td>\n",
       "      <td>0.00000</td>\n",
       "      <td>0.00000</td>\n",
       "      <td>0.0</td>\n",
       "      <td>0.0</td>\n",
       "      <td>0.0</td>\n",
       "      <td>1.0</td>\n",
       "      <td>1.0</td>\n",
       "      <td>1.000000</td>\n",
       "      <td>1.000000</td>\n",
       "      <td>0.0</td>\n",
       "      <td>1.000000</td>\n",
       "      <td>1.000000</td>\n",
       "      <td>1.000000</td>\n",
       "      <td>1.000000</td>\n",
       "      <td>0.097251</td>\n",
       "      <td>0.107301</td>\n",
       "      <td>0.152382</td>\n",
       "      <td>0.042549</td>\n",
       "      <td>0.057585</td>\n",
       "    </tr>\n",
       "    <tr>\n",
       "      <th>3</th>\n",
       "      <td>4.500</td>\n",
       "      <td>147.5</td>\n",
       "      <td>7.2285</td>\n",
       "      <td>0.0</td>\n",
       "      <td>0.0</td>\n",
       "      <td>0.0</td>\n",
       "      <td>0.000000</td>\n",
       "      <td>1.000000</td>\n",
       "      <td>0.0</td>\n",
       "      <td>0.541667</td>\n",
       "      <td>0.458333</td>\n",
       "      <td>0.000000</td>\n",
       "      <td>0.000000</td>\n",
       "      <td>1.0</td>\n",
       "      <td>0.00000</td>\n",
       "      <td>0.00000</td>\n",
       "      <td>0.0</td>\n",
       "      <td>0.0</td>\n",
       "      <td>1.0</td>\n",
       "      <td>1.0</td>\n",
       "      <td>1.0</td>\n",
       "      <td>1.000000</td>\n",
       "      <td>0.000000</td>\n",
       "      <td>1.0</td>\n",
       "      <td>0.458333</td>\n",
       "      <td>0.541667</td>\n",
       "      <td>1.000000</td>\n",
       "      <td>1.000000</td>\n",
       "      <td>0.106028</td>\n",
       "      <td>0.182203</td>\n",
       "      <td>0.273492</td>\n",
       "      <td>0.118020</td>\n",
       "      <td>0.149078</td>\n",
       "    </tr>\n",
       "    <tr>\n",
       "      <th>4</th>\n",
       "      <td>5.100</td>\n",
       "      <td>167.5</td>\n",
       "      <td>8.7150</td>\n",
       "      <td>0.0</td>\n",
       "      <td>0.0</td>\n",
       "      <td>0.0</td>\n",
       "      <td>0.000000</td>\n",
       "      <td>1.000000</td>\n",
       "      <td>0.0</td>\n",
       "      <td>0.000000</td>\n",
       "      <td>0.000000</td>\n",
       "      <td>0.555592</td>\n",
       "      <td>0.444408</td>\n",
       "      <td>0.0</td>\n",
       "      <td>0.31106</td>\n",
       "      <td>0.68894</td>\n",
       "      <td>0.0</td>\n",
       "      <td>0.0</td>\n",
       "      <td>1.0</td>\n",
       "      <td>1.0</td>\n",
       "      <td>1.0</td>\n",
       "      <td>1.000000</td>\n",
       "      <td>0.000000</td>\n",
       "      <td>1.0</td>\n",
       "      <td>1.000000</td>\n",
       "      <td>1.000000</td>\n",
       "      <td>0.444408</td>\n",
       "      <td>0.555592</td>\n",
       "      <td>-0.007175</td>\n",
       "      <td>0.108827</td>\n",
       "      <td>0.275852</td>\n",
       "      <td>0.288128</td>\n",
       "      <td>0.483792</td>\n",
       "    </tr>\n",
       "  </tbody>\n",
       "</table>\n",
       "</div>"
      ],
      "text/plain": [
       "   panicle  growth   yield  VLP   LP   MP        HP       VHP  VLG        LG  \\\n",
       "0    3.975   184.0  7.5000  0.0  0.0  0.0  0.587912  0.412088  0.0  0.000000   \n",
       "1    3.975   184.0  6.7500  0.0  0.0  0.0  0.587912  0.412088  0.0  0.000000   \n",
       "2    2.850   125.0  6.4275  1.0  0.0  0.0  0.000000  0.000000  1.0  0.000000   \n",
       "3    4.500   147.5  7.2285  0.0  0.0  0.0  0.000000  1.000000  0.0  0.541667   \n",
       "4    5.100   167.5  8.7150  0.0  0.0  0.0  0.000000  1.000000  0.0  0.000000   \n",
       "\n",
       "         MG        HG       VHG  real_VLY  real_LY  real_MY  real_HY  \\\n",
       "0  0.000000  0.000000  1.000000       1.0  0.00000  0.00000      0.0   \n",
       "1  0.000000  0.000000  1.000000       1.0  0.00000  0.00000      0.0   \n",
       "2  0.000000  0.000000  0.000000       1.0  0.00000  0.00000      0.0   \n",
       "3  0.458333  0.000000  0.000000       1.0  0.00000  0.00000      0.0   \n",
       "4  0.000000  0.555592  0.444408       0.0  0.31106  0.68894      0.0   \n",
       "\n",
       "   real_VHY  not_VLP  not_LP  not_MP    not_HP   not_VHP  not_VLG    not_LG  \\\n",
       "0       0.0      1.0     1.0     1.0  0.412088  0.587912      1.0  1.000000   \n",
       "1       0.0      1.0     1.0     1.0  0.412088  0.587912      1.0  1.000000   \n",
       "2       0.0      0.0     1.0     1.0  1.000000  1.000000      0.0  1.000000   \n",
       "3       0.0      1.0     1.0     1.0  1.000000  0.000000      1.0  0.458333   \n",
       "4       0.0      1.0     1.0     1.0  1.000000  0.000000      1.0  1.000000   \n",
       "\n",
       "     not_MG    not_HG   not_VHG  pred_VLY   pred_LY   pred_MY   pred_HY  \\\n",
       "0  1.000000  1.000000  0.000000  0.208716  0.257209  0.362847  0.171780   \n",
       "1  1.000000  1.000000  0.000000  0.208716  0.257209  0.362847  0.171780   \n",
       "2  1.000000  1.000000  1.000000  0.097251  0.107301  0.152382  0.042549   \n",
       "3  0.541667  1.000000  1.000000  0.106028  0.182203  0.273492  0.118020   \n",
       "4  1.000000  0.444408  0.555592 -0.007175  0.108827  0.275852  0.288128   \n",
       "\n",
       "   pred_VHY  \n",
       "0  0.397926  \n",
       "1  0.397926  \n",
       "2  0.057585  \n",
       "3  0.149078  \n",
       "4  0.483792  "
      ]
     },
     "execution_count": 23,
     "metadata": {},
     "output_type": "execute_result"
    }
   ],
   "source": [
    "fuzzy_system_fnn.data.head()"
   ]
  },
  {
   "cell_type": "code",
   "execution_count": 24,
   "metadata": {},
   "outputs": [
    {
     "data": {
      "text/html": [
       "<div>\n",
       "<style scoped>\n",
       "    .dataframe tbody tr th:only-of-type {\n",
       "        vertical-align: middle;\n",
       "    }\n",
       "\n",
       "    .dataframe tbody tr th {\n",
       "        vertical-align: top;\n",
       "    }\n",
       "\n",
       "    .dataframe thead th {\n",
       "        text-align: right;\n",
       "    }\n",
       "</style>\n",
       "<table border=\"1\" class=\"dataframe\">\n",
       "  <thead>\n",
       "    <tr style=\"text-align: right;\">\n",
       "      <th></th>\n",
       "      <th>panicle</th>\n",
       "      <th>growth</th>\n",
       "      <th>yield</th>\n",
       "      <th>VLP</th>\n",
       "      <th>LP</th>\n",
       "      <th>MP</th>\n",
       "      <th>HP</th>\n",
       "      <th>VHP</th>\n",
       "      <th>VLG</th>\n",
       "      <th>LG</th>\n",
       "      <th>MG</th>\n",
       "      <th>HG</th>\n",
       "      <th>VHG</th>\n",
       "      <th>real_VLY</th>\n",
       "      <th>real_LY</th>\n",
       "      <th>real_MY</th>\n",
       "      <th>real_HY</th>\n",
       "      <th>real_VHY</th>\n",
       "      <th>not_VLP</th>\n",
       "      <th>not_LP</th>\n",
       "      <th>not_MP</th>\n",
       "      <th>not_HP</th>\n",
       "      <th>not_VHP</th>\n",
       "      <th>not_VLG</th>\n",
       "      <th>not_LG</th>\n",
       "      <th>not_MG</th>\n",
       "      <th>not_HG</th>\n",
       "      <th>not_VHG</th>\n",
       "      <th>pred_VLY</th>\n",
       "      <th>pred_LY</th>\n",
       "      <th>pred_MY</th>\n",
       "      <th>pred_HY</th>\n",
       "      <th>pred_VHY</th>\n",
       "      <th>predicted_crisp_yield</th>\n",
       "    </tr>\n",
       "  </thead>\n",
       "  <tbody>\n",
       "    <tr>\n",
       "      <th>0</th>\n",
       "      <td>3.975</td>\n",
       "      <td>184.0</td>\n",
       "      <td>7.5000</td>\n",
       "      <td>0.0</td>\n",
       "      <td>0.0</td>\n",
       "      <td>0.0</td>\n",
       "      <td>0.587912</td>\n",
       "      <td>0.412088</td>\n",
       "      <td>0.0</td>\n",
       "      <td>0.000000</td>\n",
       "      <td>0.000000</td>\n",
       "      <td>0.000000</td>\n",
       "      <td>1.000000</td>\n",
       "      <td>1.0</td>\n",
       "      <td>0.00000</td>\n",
       "      <td>0.00000</td>\n",
       "      <td>0.0</td>\n",
       "      <td>0.0</td>\n",
       "      <td>1.0</td>\n",
       "      <td>1.0</td>\n",
       "      <td>1.0</td>\n",
       "      <td>0.412088</td>\n",
       "      <td>0.587912</td>\n",
       "      <td>1.0</td>\n",
       "      <td>1.000000</td>\n",
       "      <td>1.000000</td>\n",
       "      <td>1.000000</td>\n",
       "      <td>0.000000</td>\n",
       "      <td>0.208716</td>\n",
       "      <td>0.257209</td>\n",
       "      <td>0.362847</td>\n",
       "      <td>0.171780</td>\n",
       "      <td>0.397926</td>\n",
       "      <td>9.120709</td>\n",
       "    </tr>\n",
       "    <tr>\n",
       "      <th>1</th>\n",
       "      <td>3.975</td>\n",
       "      <td>184.0</td>\n",
       "      <td>6.7500</td>\n",
       "      <td>0.0</td>\n",
       "      <td>0.0</td>\n",
       "      <td>0.0</td>\n",
       "      <td>0.587912</td>\n",
       "      <td>0.412088</td>\n",
       "      <td>0.0</td>\n",
       "      <td>0.000000</td>\n",
       "      <td>0.000000</td>\n",
       "      <td>0.000000</td>\n",
       "      <td>1.000000</td>\n",
       "      <td>1.0</td>\n",
       "      <td>0.00000</td>\n",
       "      <td>0.00000</td>\n",
       "      <td>0.0</td>\n",
       "      <td>0.0</td>\n",
       "      <td>1.0</td>\n",
       "      <td>1.0</td>\n",
       "      <td>1.0</td>\n",
       "      <td>0.412088</td>\n",
       "      <td>0.587912</td>\n",
       "      <td>1.0</td>\n",
       "      <td>1.000000</td>\n",
       "      <td>1.000000</td>\n",
       "      <td>1.000000</td>\n",
       "      <td>0.000000</td>\n",
       "      <td>0.208716</td>\n",
       "      <td>0.257209</td>\n",
       "      <td>0.362847</td>\n",
       "      <td>0.171780</td>\n",
       "      <td>0.397926</td>\n",
       "      <td>9.120709</td>\n",
       "    </tr>\n",
       "    <tr>\n",
       "      <th>2</th>\n",
       "      <td>2.850</td>\n",
       "      <td>125.0</td>\n",
       "      <td>6.4275</td>\n",
       "      <td>1.0</td>\n",
       "      <td>0.0</td>\n",
       "      <td>0.0</td>\n",
       "      <td>0.000000</td>\n",
       "      <td>0.000000</td>\n",
       "      <td>1.0</td>\n",
       "      <td>0.000000</td>\n",
       "      <td>0.000000</td>\n",
       "      <td>0.000000</td>\n",
       "      <td>0.000000</td>\n",
       "      <td>1.0</td>\n",
       "      <td>0.00000</td>\n",
       "      <td>0.00000</td>\n",
       "      <td>0.0</td>\n",
       "      <td>0.0</td>\n",
       "      <td>0.0</td>\n",
       "      <td>1.0</td>\n",
       "      <td>1.0</td>\n",
       "      <td>1.000000</td>\n",
       "      <td>1.000000</td>\n",
       "      <td>0.0</td>\n",
       "      <td>1.000000</td>\n",
       "      <td>1.000000</td>\n",
       "      <td>1.000000</td>\n",
       "      <td>1.000000</td>\n",
       "      <td>0.097251</td>\n",
       "      <td>0.107301</td>\n",
       "      <td>0.152382</td>\n",
       "      <td>0.042549</td>\n",
       "      <td>0.057585</td>\n",
       "      <td>8.557072</td>\n",
       "    </tr>\n",
       "    <tr>\n",
       "      <th>3</th>\n",
       "      <td>4.500</td>\n",
       "      <td>147.5</td>\n",
       "      <td>7.2285</td>\n",
       "      <td>0.0</td>\n",
       "      <td>0.0</td>\n",
       "      <td>0.0</td>\n",
       "      <td>0.000000</td>\n",
       "      <td>1.000000</td>\n",
       "      <td>0.0</td>\n",
       "      <td>0.541667</td>\n",
       "      <td>0.458333</td>\n",
       "      <td>0.000000</td>\n",
       "      <td>0.000000</td>\n",
       "      <td>1.0</td>\n",
       "      <td>0.00000</td>\n",
       "      <td>0.00000</td>\n",
       "      <td>0.0</td>\n",
       "      <td>0.0</td>\n",
       "      <td>1.0</td>\n",
       "      <td>1.0</td>\n",
       "      <td>1.0</td>\n",
       "      <td>1.000000</td>\n",
       "      <td>0.000000</td>\n",
       "      <td>1.0</td>\n",
       "      <td>0.458333</td>\n",
       "      <td>0.541667</td>\n",
       "      <td>1.000000</td>\n",
       "      <td>1.000000</td>\n",
       "      <td>0.106028</td>\n",
       "      <td>0.182203</td>\n",
       "      <td>0.273492</td>\n",
       "      <td>0.118020</td>\n",
       "      <td>0.149078</td>\n",
       "      <td>8.919761</td>\n",
       "    </tr>\n",
       "    <tr>\n",
       "      <th>4</th>\n",
       "      <td>5.100</td>\n",
       "      <td>167.5</td>\n",
       "      <td>8.7150</td>\n",
       "      <td>0.0</td>\n",
       "      <td>0.0</td>\n",
       "      <td>0.0</td>\n",
       "      <td>0.000000</td>\n",
       "      <td>1.000000</td>\n",
       "      <td>0.0</td>\n",
       "      <td>0.000000</td>\n",
       "      <td>0.000000</td>\n",
       "      <td>0.555592</td>\n",
       "      <td>0.444408</td>\n",
       "      <td>0.0</td>\n",
       "      <td>0.31106</td>\n",
       "      <td>0.68894</td>\n",
       "      <td>0.0</td>\n",
       "      <td>0.0</td>\n",
       "      <td>1.0</td>\n",
       "      <td>1.0</td>\n",
       "      <td>1.0</td>\n",
       "      <td>1.000000</td>\n",
       "      <td>0.000000</td>\n",
       "      <td>1.0</td>\n",
       "      <td>1.000000</td>\n",
       "      <td>1.000000</td>\n",
       "      <td>0.444408</td>\n",
       "      <td>0.555592</td>\n",
       "      <td>-0.007175</td>\n",
       "      <td>0.108827</td>\n",
       "      <td>0.275852</td>\n",
       "      <td>0.288128</td>\n",
       "      <td>0.483792</td>\n",
       "      <td>9.880146</td>\n",
       "    </tr>\n",
       "  </tbody>\n",
       "</table>\n",
       "</div>"
      ],
      "text/plain": [
       "   panicle  growth   yield  VLP   LP   MP        HP       VHP  VLG        LG  \\\n",
       "0    3.975   184.0  7.5000  0.0  0.0  0.0  0.587912  0.412088  0.0  0.000000   \n",
       "1    3.975   184.0  6.7500  0.0  0.0  0.0  0.587912  0.412088  0.0  0.000000   \n",
       "2    2.850   125.0  6.4275  1.0  0.0  0.0  0.000000  0.000000  1.0  0.000000   \n",
       "3    4.500   147.5  7.2285  0.0  0.0  0.0  0.000000  1.000000  0.0  0.541667   \n",
       "4    5.100   167.5  8.7150  0.0  0.0  0.0  0.000000  1.000000  0.0  0.000000   \n",
       "\n",
       "         MG        HG       VHG  real_VLY  real_LY  real_MY  real_HY  \\\n",
       "0  0.000000  0.000000  1.000000       1.0  0.00000  0.00000      0.0   \n",
       "1  0.000000  0.000000  1.000000       1.0  0.00000  0.00000      0.0   \n",
       "2  0.000000  0.000000  0.000000       1.0  0.00000  0.00000      0.0   \n",
       "3  0.458333  0.000000  0.000000       1.0  0.00000  0.00000      0.0   \n",
       "4  0.000000  0.555592  0.444408       0.0  0.31106  0.68894      0.0   \n",
       "\n",
       "   real_VHY  not_VLP  not_LP  not_MP    not_HP   not_VHP  not_VLG    not_LG  \\\n",
       "0       0.0      1.0     1.0     1.0  0.412088  0.587912      1.0  1.000000   \n",
       "1       0.0      1.0     1.0     1.0  0.412088  0.587912      1.0  1.000000   \n",
       "2       0.0      0.0     1.0     1.0  1.000000  1.000000      0.0  1.000000   \n",
       "3       0.0      1.0     1.0     1.0  1.000000  0.000000      1.0  0.458333   \n",
       "4       0.0      1.0     1.0     1.0  1.000000  0.000000      1.0  1.000000   \n",
       "\n",
       "     not_MG    not_HG   not_VHG  pred_VLY   pred_LY   pred_MY   pred_HY  \\\n",
       "0  1.000000  1.000000  0.000000  0.208716  0.257209  0.362847  0.171780   \n",
       "1  1.000000  1.000000  0.000000  0.208716  0.257209  0.362847  0.171780   \n",
       "2  1.000000  1.000000  1.000000  0.097251  0.107301  0.152382  0.042549   \n",
       "3  0.541667  1.000000  1.000000  0.106028  0.182203  0.273492  0.118020   \n",
       "4  1.000000  0.444408  0.555592 -0.007175  0.108827  0.275852  0.288128   \n",
       "\n",
       "   pred_VHY  predicted_crisp_yield  \n",
       "0  0.397926               9.120709  \n",
       "1  0.397926               9.120709  \n",
       "2  0.057585               8.557072  \n",
       "3  0.149078               8.919761  \n",
       "4  0.483792               9.880146  "
      ]
     },
     "execution_count": 24,
     "metadata": {},
     "output_type": "execute_result"
    }
   ],
   "source": [
    "fuzzy_system_fnn.defuzzify_yield()\n",
    "\n",
    "fuzzy_system_fnn.data.head()"
   ]
  },
  {
   "cell_type": "code",
   "execution_count": 25,
   "metadata": {},
   "outputs": [
    {
     "data": {
      "text/plain": [
       "0.537150068427445"
      ]
     },
     "execution_count": 25,
     "metadata": {},
     "output_type": "execute_result"
    }
   ],
   "source": [
    "# RMSE of the predicted crisp yield\n",
    "# select only test data (last 20%)\n",
    "df_test = fuzzy_system_fnn.data.iloc[int(.8 *len(fuzzy_system_fnn.data)):]\n",
    "RMSE_predicted_vs_real = np.sqrt(np.mean((df_test['yield'] - df_test['predicted_crisp_yield'])**2))\n",
    "RMSE_predicted_vs_real"
   ]
  },
  {
   "cell_type": "code",
   "execution_count": 26,
   "metadata": {},
   "outputs": [
    {
     "data": {
      "image/png": "[encoded data removed]",
      "text/plain": [
       "<Figure size 2000x300 with 1 Axes>"
      ]
     },
     "metadata": {},
     "output_type": "display_data"
    }
   ],
   "source": [
    "# plot real vs predicted yield\n",
    "plt.figure(figsize=(20,3))\n",
    "plt.plot(df_test['yield'], linestyle='-', marker='.', color='blue', label='Real yield')\n",
    "plt.plot(df_test['predicted_crisp_yield'], linestyle='-', marker='.', color='red', label='Predicted yield')\n",
    "plt.xlabel('Sample ID', fontsize=11)\n",
    "plt.ylabel('Crop yield (t/ha)', fontsize=11)\n",
    "plt.xticks(fontsize=11)\n",
    "plt.yticks(fontsize=11)\n",
    "plt.legend()\n",
    "plt.show()"
   ]
  }
 ],
 "metadata": {
  "kernelspec": {
   "display_name": "dl39-pytorch",
   "language": "python",
   "name": "python3"
  },
  "language_info": {
   "codemirror_mode": {
    "name": "ipython",
    "version": 3
   },
   "file_extension": ".py",
   "mimetype": "text/x-python",
   "name": "python",
   "nbconvert_exporter": "python",
   "pygments_lexer": "ipython3",
   "version": "3.9.16"
  },
  "orig_nbformat": 4
 },
 "nbformat": 4,
 "nbformat_minor": 2
}
